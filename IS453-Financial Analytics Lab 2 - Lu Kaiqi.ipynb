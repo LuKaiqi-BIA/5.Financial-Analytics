{
 "cells": [
  {
   "cell_type": "markdown",
   "metadata": {},
   "source": [
    "# IS453-Financial Analytics Lab 2"
   ]
  },
  {
   "cell_type": "markdown",
   "metadata": {},
   "source": [
    "An investor believes that one of the three hedge funds he has invested in may be a fraudulent Ponzi scheme. All three funds say that they invest in some combination of stocks and bonds. IS453 lab teams are hired as consultants and asked to analyse the data for the funds to see if there are things that look unusual that the would lead to the conclusion that the investment fund may be a fake and he should sell out of it.  \n",
    "\n",
    "The investor has also asked your advice on what percentages he should invest in the heage funds that you think are real to get a good risk adjusted return."
   ]
  },
  {
   "cell_type": "markdown",
   "metadata": {},
   "source": [
    "### 1. Import the relevant libraries\n",
    "The libraries below are sufficient to complete the lab. Please go ahead to import more libraries if it aids you in answering the questions."
   ]
  },
  {
   "cell_type": "code",
   "execution_count": 1,
   "metadata": {
    "execution": {
     "iopub.execute_input": "2021-02-15T09:13:52.999Z",
     "iopub.status.busy": "2021-02-15T09:13:52.993Z",
     "iopub.status.idle": "2021-02-15T09:13:54.384Z",
     "shell.execute_reply": "2021-02-15T09:13:54.653Z"
    }
   },
   "outputs": [],
   "source": [
    "from pandas_datareader import data as pdr\n",
    "import matplotlib.pyplot as plt\n",
    "import pandas as pd\n",
    "import numpy as np\n",
    "from matplotlib.ticker import FuncFormatter\n",
    "\n",
    "%matplotlib inline"
   ]
  },
  {
   "cell_type": "markdown",
   "metadata": {},
   "source": [
    "### 2. Read the files and get the benchmarks\n",
    "*Hint: get SPY and TLT data to compare the funds against as benchmarks for stocks and bonds indexes*"
   ]
  },
  {
   "cell_type": "code",
   "execution_count": 2,
   "metadata": {
    "execution": {
     "iopub.execute_input": "2021-02-15T09:13:54.413Z",
     "iopub.status.busy": "2021-02-15T09:13:54.404Z",
     "iopub.status.idle": "2021-02-15T09:13:54.425Z",
     "shell.execute_reply": "2021-02-15T09:13:54.663Z"
    },
    "scrolled": true
   },
   "outputs": [
    {
     "data": {
      "text/html": [
       "<div>\n",
       "<style scoped>\n",
       "    .dataframe tbody tr th:only-of-type {\n",
       "        vertical-align: middle;\n",
       "    }\n",
       "\n",
       "    .dataframe tbody tr th {\n",
       "        vertical-align: top;\n",
       "    }\n",
       "\n",
       "    .dataframe thead tr th {\n",
       "        text-align: left;\n",
       "    }\n",
       "\n",
       "    .dataframe thead tr:last-of-type th {\n",
       "        text-align: right;\n",
       "    }\n",
       "</style>\n",
       "<table border=\"1\" class=\"dataframe\">\n",
       "  <thead>\n",
       "    <tr>\n",
       "      <th>Attributes</th>\n",
       "      <th>Adj Close</th>\n",
       "      <th>Close</th>\n",
       "      <th>Adj Close</th>\n",
       "      <th>Close</th>\n",
       "      <th>Adj Close</th>\n",
       "      <th>Close</th>\n",
       "      <th colspan=\"2\" halign=\"left\">Adj Close</th>\n",
       "      <th colspan=\"2\" halign=\"left\">Close</th>\n",
       "    </tr>\n",
       "    <tr>\n",
       "      <th>Symbols</th>\n",
       "      <th>Fund1</th>\n",
       "      <th>Fund1</th>\n",
       "      <th>Fund2</th>\n",
       "      <th>Fund2</th>\n",
       "      <th>Fund3</th>\n",
       "      <th>Fund3</th>\n",
       "      <th>SPY</th>\n",
       "      <th>TLT</th>\n",
       "      <th>SPY</th>\n",
       "      <th>TLT</th>\n",
       "    </tr>\n",
       "    <tr>\n",
       "      <th>Date</th>\n",
       "      <th></th>\n",
       "      <th></th>\n",
       "      <th></th>\n",
       "      <th></th>\n",
       "      <th></th>\n",
       "      <th></th>\n",
       "      <th></th>\n",
       "      <th></th>\n",
       "      <th></th>\n",
       "      <th></th>\n",
       "    </tr>\n",
       "  </thead>\n",
       "  <tbody>\n",
       "    <tr>\n",
       "      <th>2018-02-01</th>\n",
       "      <td>24.841383</td>\n",
       "      <td>24.841383</td>\n",
       "      <td>44.523803</td>\n",
       "      <td>46.862500</td>\n",
       "      <td>109.767549</td>\n",
       "      <td>120.496999</td>\n",
       "      <td>266.224091</td>\n",
       "      <td>113.228706</td>\n",
       "      <td>281.579987</td>\n",
       "      <td>120.699997</td>\n",
       "    </tr>\n",
       "    <tr>\n",
       "      <th>2018-02-02</th>\n",
       "      <td>25.547400</td>\n",
       "      <td>25.547400</td>\n",
       "      <td>43.485827</td>\n",
       "      <td>45.769999</td>\n",
       "      <td>109.348530</td>\n",
       "      <td>120.036997</td>\n",
       "      <td>260.428467</td>\n",
       "      <td>112.178055</td>\n",
       "      <td>275.450012</td>\n",
       "      <td>119.580002</td>\n",
       "    </tr>\n",
       "    <tr>\n",
       "      <th>2018-02-05</th>\n",
       "      <td>25.419111</td>\n",
       "      <td>25.419111</td>\n",
       "      <td>41.945252</td>\n",
       "      <td>44.148499</td>\n",
       "      <td>109.683777</td>\n",
       "      <td>120.404996</td>\n",
       "      <td>249.536652</td>\n",
       "      <td>113.238106</td>\n",
       "      <td>263.929993</td>\n",
       "      <td>120.709999</td>\n",
       "    </tr>\n",
       "    <tr>\n",
       "      <th>2018-02-06</th>\n",
       "      <td>25.950387</td>\n",
       "      <td>25.950387</td>\n",
       "      <td>42.928598</td>\n",
       "      <td>45.183501</td>\n",
       "      <td>109.526638</td>\n",
       "      <td>120.232504</td>\n",
       "      <td>254.453156</td>\n",
       "      <td>112.534523</td>\n",
       "      <td>269.130005</td>\n",
       "      <td>119.959999</td>\n",
       "    </tr>\n",
       "    <tr>\n",
       "      <th>2018-02-07</th>\n",
       "      <td>25.690925</td>\n",
       "      <td>25.690925</td>\n",
       "      <td>43.529534</td>\n",
       "      <td>45.816000</td>\n",
       "      <td>109.159954</td>\n",
       "      <td>119.829996</td>\n",
       "      <td>253.072739</td>\n",
       "      <td>111.465080</td>\n",
       "      <td>267.670013</td>\n",
       "      <td>118.820000</td>\n",
       "    </tr>\n",
       "  </tbody>\n",
       "</table>\n",
       "</div>"
      ],
      "text/plain": [
       "Attributes  Adj Close      Close  Adj Close      Close   Adj Close  \\\n",
       "Symbols         Fund1      Fund1      Fund2      Fund2       Fund3   \n",
       "Date                                                                 \n",
       "2018-02-01  24.841383  24.841383  44.523803  46.862500  109.767549   \n",
       "2018-02-02  25.547400  25.547400  43.485827  45.769999  109.348530   \n",
       "2018-02-05  25.419111  25.419111  41.945252  44.148499  109.683777   \n",
       "2018-02-06  25.950387  25.950387  42.928598  45.183501  109.526638   \n",
       "2018-02-07  25.690925  25.690925  43.529534  45.816000  109.159954   \n",
       "\n",
       "Attributes       Close   Adj Close                   Close              \n",
       "Symbols          Fund3         SPY         TLT         SPY         TLT  \n",
       "Date                                                                    \n",
       "2018-02-01  120.496999  266.224091  113.228706  281.579987  120.699997  \n",
       "2018-02-02  120.036997  260.428467  112.178055  275.450012  119.580002  \n",
       "2018-02-05  120.404996  249.536652  113.238106  263.929993  120.709999  \n",
       "2018-02-06  120.232504  254.453156  112.534523  269.130005  119.959999  \n",
       "2018-02-07  119.829996  253.072739  111.465080  267.670013  118.820000  "
      ]
     },
     "execution_count": 2,
     "metadata": {},
     "output_type": "execute_result"
    }
   ],
   "source": [
    "#ANSWER\n",
    "# hint to read: fund1=pd.read_csv('fund1_prices.csv',index_col = 0,header=[0,1])\n",
    "# hint to merge: fund3.merge(fund2, left_index=True, right_index=True, how='left')\n",
    "fund1 = pd.read_csv(\"fund1_prices - 1.15.csv\", index_col = 0,header=[0,1])\n",
    "fund2 = pd.read_csv(\"fund2_prices - 1.15.csv\", index_col = 0,header=[0,1])\n",
    "fund3 = pd.read_csv(\"fund3_prices - 1.15.csv\", index_col = 0,header=[0,1])\n",
    "panel_data = pdr.DataReader([\"SPY\",\"TLT\"], \"yahoo\", start = \"2018-01-01\", end=\"2020-12-31\")[[\"Adj Close\", \"Close\"]]\n",
    "merged_df = fund1.merge(fund2, left_index=True, right_index=True, how='left').merge(fund3, left_index=True, right_index=True, how='left').merge(panel_data, left_index=True, right_index=True, how='left')\n",
    "merged_df.head()"
   ]
  },
  {
   "cell_type": "code",
   "execution_count": 3,
   "metadata": {
    "jupyter": {
     "outputs_hidden": false,
     "source_hidden": false
    },
    "nteract": {
     "transient": {
      "deleting": false
     }
    }
   },
   "outputs": [
    {
     "data": {
      "text/html": [
       "<div>\n",
       "<style scoped>\n",
       "    .dataframe tbody tr th:only-of-type {\n",
       "        vertical-align: middle;\n",
       "    }\n",
       "\n",
       "    .dataframe tbody tr th {\n",
       "        vertical-align: top;\n",
       "    }\n",
       "\n",
       "    .dataframe thead th {\n",
       "        text-align: right;\n",
       "    }\n",
       "</style>\n",
       "<table border=\"1\" class=\"dataframe\">\n",
       "  <thead>\n",
       "    <tr style=\"text-align: right;\">\n",
       "      <th>Symbols</th>\n",
       "      <th>Fund1</th>\n",
       "      <th>Fund2</th>\n",
       "      <th>Fund3</th>\n",
       "      <th>SPY</th>\n",
       "      <th>TLT</th>\n",
       "    </tr>\n",
       "    <tr>\n",
       "      <th>Date</th>\n",
       "      <th></th>\n",
       "      <th></th>\n",
       "      <th></th>\n",
       "      <th></th>\n",
       "      <th></th>\n",
       "    </tr>\n",
       "  </thead>\n",
       "  <tbody>\n",
       "    <tr>\n",
       "      <th>2018-02-01</th>\n",
       "      <td>24.841383</td>\n",
       "      <td>44.523803</td>\n",
       "      <td>109.767549</td>\n",
       "      <td>266.224091</td>\n",
       "      <td>113.228706</td>\n",
       "    </tr>\n",
       "    <tr>\n",
       "      <th>2018-02-02</th>\n",
       "      <td>25.547400</td>\n",
       "      <td>43.485827</td>\n",
       "      <td>109.348530</td>\n",
       "      <td>260.428467</td>\n",
       "      <td>112.178055</td>\n",
       "    </tr>\n",
       "    <tr>\n",
       "      <th>2018-02-05</th>\n",
       "      <td>25.419111</td>\n",
       "      <td>41.945252</td>\n",
       "      <td>109.683777</td>\n",
       "      <td>249.536652</td>\n",
       "      <td>113.238106</td>\n",
       "    </tr>\n",
       "    <tr>\n",
       "      <th>2018-02-06</th>\n",
       "      <td>25.950387</td>\n",
       "      <td>42.928598</td>\n",
       "      <td>109.526638</td>\n",
       "      <td>254.453156</td>\n",
       "      <td>112.534523</td>\n",
       "    </tr>\n",
       "    <tr>\n",
       "      <th>2018-02-07</th>\n",
       "      <td>25.690925</td>\n",
       "      <td>43.529534</td>\n",
       "      <td>109.159954</td>\n",
       "      <td>253.072739</td>\n",
       "      <td>111.465080</td>\n",
       "    </tr>\n",
       "    <tr>\n",
       "      <th>...</th>\n",
       "      <td>...</td>\n",
       "      <td>...</td>\n",
       "      <td>...</td>\n",
       "      <td>...</td>\n",
       "      <td>...</td>\n",
       "    </tr>\n",
       "    <tr>\n",
       "      <th>2020-11-09</th>\n",
       "      <td>43.927256</td>\n",
       "      <td>110.280097</td>\n",
       "      <td>127.760453</td>\n",
       "      <td>353.055054</td>\n",
       "      <td>155.558258</td>\n",
       "    </tr>\n",
       "    <tr>\n",
       "      <th>2020-11-10</th>\n",
       "      <td>44.452130</td>\n",
       "      <td>107.257952</td>\n",
       "      <td>127.909345</td>\n",
       "      <td>352.537262</td>\n",
       "      <td>154.661148</td>\n",
       "    </tr>\n",
       "    <tr>\n",
       "      <th>2020-11-11</th>\n",
       "      <td>45.109318</td>\n",
       "      <td>111.751561</td>\n",
       "      <td>127.874987</td>\n",
       "      <td>355.156097</td>\n",
       "      <td>155.219345</td>\n",
       "    </tr>\n",
       "    <tr>\n",
       "      <th>2020-11-12</th>\n",
       "      <td>44.787945</td>\n",
       "      <td>111.932661</td>\n",
       "      <td>128.252945</td>\n",
       "      <td>351.710754</td>\n",
       "      <td>157.860809</td>\n",
       "    </tr>\n",
       "    <tr>\n",
       "      <th>2020-11-13</th>\n",
       "      <td>44.052524</td>\n",
       "      <td>112.509924</td>\n",
       "      <td>128.470544</td>\n",
       "      <td>356.580017</td>\n",
       "      <td>157.651489</td>\n",
       "    </tr>\n",
       "  </tbody>\n",
       "</table>\n",
       "<p>703 rows × 5 columns</p>\n",
       "</div>"
      ],
      "text/plain": [
       "Symbols         Fund1       Fund2       Fund3         SPY         TLT\n",
       "Date                                                                 \n",
       "2018-02-01  24.841383   44.523803  109.767549  266.224091  113.228706\n",
       "2018-02-02  25.547400   43.485827  109.348530  260.428467  112.178055\n",
       "2018-02-05  25.419111   41.945252  109.683777  249.536652  113.238106\n",
       "2018-02-06  25.950387   42.928598  109.526638  254.453156  112.534523\n",
       "2018-02-07  25.690925   43.529534  109.159954  253.072739  111.465080\n",
       "...               ...         ...         ...         ...         ...\n",
       "2020-11-09  43.927256  110.280097  127.760453  353.055054  155.558258\n",
       "2020-11-10  44.452130  107.257952  127.909345  352.537262  154.661148\n",
       "2020-11-11  45.109318  111.751561  127.874987  355.156097  155.219345\n",
       "2020-11-12  44.787945  111.932661  128.252945  351.710754  157.860809\n",
       "2020-11-13  44.052524  112.509924  128.470544  356.580017  157.651489\n",
       "\n",
       "[703 rows x 5 columns]"
      ]
     },
     "execution_count": 3,
     "metadata": {},
     "output_type": "execute_result"
    }
   ],
   "source": [
    "#ANSWER\n",
    "merged_df[\"Adj Close\"]"
   ]
  },
  {
   "cell_type": "markdown",
   "metadata": {},
   "source": [
    "### 3.Cumulative return series\n",
    "Review and compare the returns provided by the different funds and the benchmarks."
   ]
  },
  {
   "cell_type": "code",
   "execution_count": 13,
   "metadata": {
    "jupyter": {
     "outputs_hidden": false,
     "source_hidden": false
    },
    "nteract": {
     "transient": {
      "deleting": false
     }
    }
   },
   "outputs": [
    {
     "data": {
      "text/html": [
       "<div>\n",
       "<style scoped>\n",
       "    .dataframe tbody tr th:only-of-type {\n",
       "        vertical-align: middle;\n",
       "    }\n",
       "\n",
       "    .dataframe tbody tr th {\n",
       "        vertical-align: top;\n",
       "    }\n",
       "\n",
       "    .dataframe thead th {\n",
       "        text-align: right;\n",
       "    }\n",
       "</style>\n",
       "<table border=\"1\" class=\"dataframe\">\n",
       "  <thead>\n",
       "    <tr style=\"text-align: right;\">\n",
       "      <th>Symbols</th>\n",
       "      <th>Fund1</th>\n",
       "      <th>Fund2</th>\n",
       "      <th>Fund3</th>\n",
       "      <th>SPY</th>\n",
       "      <th>TLT</th>\n",
       "    </tr>\n",
       "    <tr>\n",
       "      <th>Date</th>\n",
       "      <th></th>\n",
       "      <th></th>\n",
       "      <th></th>\n",
       "      <th></th>\n",
       "      <th></th>\n",
       "    </tr>\n",
       "  </thead>\n",
       "  <tbody>\n",
       "    <tr>\n",
       "      <th>2020-11-09</th>\n",
       "      <td>0.768310</td>\n",
       "      <td>1.476880</td>\n",
       "      <td>0.163918</td>\n",
       "      <td>0.326157</td>\n",
       "      <td>0.373841</td>\n",
       "    </tr>\n",
       "    <tr>\n",
       "      <th>2020-11-10</th>\n",
       "      <td>0.789439</td>\n",
       "      <td>1.409002</td>\n",
       "      <td>0.165275</td>\n",
       "      <td>0.324212</td>\n",
       "      <td>0.365918</td>\n",
       "    </tr>\n",
       "    <tr>\n",
       "      <th>2020-11-11</th>\n",
       "      <td>0.815894</td>\n",
       "      <td>1.509928</td>\n",
       "      <td>0.164962</td>\n",
       "      <td>0.334049</td>\n",
       "      <td>0.370848</td>\n",
       "    </tr>\n",
       "    <tr>\n",
       "      <th>2020-11-12</th>\n",
       "      <td>0.802957</td>\n",
       "      <td>1.513996</td>\n",
       "      <td>0.168405</td>\n",
       "      <td>0.321108</td>\n",
       "      <td>0.394177</td>\n",
       "    </tr>\n",
       "    <tr>\n",
       "      <th>2020-11-13</th>\n",
       "      <td>0.773352</td>\n",
       "      <td>1.526961</td>\n",
       "      <td>0.170387</td>\n",
       "      <td>0.339398</td>\n",
       "      <td>0.392328</td>\n",
       "    </tr>\n",
       "  </tbody>\n",
       "</table>\n",
       "</div>"
      ],
      "text/plain": [
       "Symbols        Fund1     Fund2     Fund3       SPY       TLT\n",
       "Date                                                        \n",
       "2020-11-09  0.768310  1.476880  0.163918  0.326157  0.373841\n",
       "2020-11-10  0.789439  1.409002  0.165275  0.324212  0.365918\n",
       "2020-11-11  0.815894  1.509928  0.164962  0.334049  0.370848\n",
       "2020-11-12  0.802957  1.513996  0.168405  0.321108  0.394177\n",
       "2020-11-13  0.773352  1.526961  0.170387  0.339398  0.392328"
      ]
     },
     "execution_count": 13,
     "metadata": {},
     "output_type": "execute_result"
    }
   ],
   "source": [
    "#ANSWER\n",
    "ret_series_adj = (1 + merged_df[\"Adj Close\"].pct_change()).cumprod() - 1\n",
    "ret_series_adj.tail()"
   ]
  },
  {
   "cell_type": "markdown",
   "metadata": {},
   "source": [
    "### 4. Correlation\n",
    "Compare how the funds correlate with the benchmarks and create scatter plots for each of the funds versus the benchmarks."
   ]
  },
  {
   "cell_type": "code",
   "execution_count": 5,
   "metadata": {},
   "outputs": [
    {
     "data": {
      "text/html": [
       "<div>\n",
       "<style scoped>\n",
       "    .dataframe tbody tr th:only-of-type {\n",
       "        vertical-align: middle;\n",
       "    }\n",
       "\n",
       "    .dataframe tbody tr th {\n",
       "        vertical-align: top;\n",
       "    }\n",
       "\n",
       "    .dataframe thead th {\n",
       "        text-align: right;\n",
       "    }\n",
       "</style>\n",
       "<table border=\"1\" class=\"dataframe\">\n",
       "  <thead>\n",
       "    <tr style=\"text-align: right;\">\n",
       "      <th>Symbols</th>\n",
       "      <th>SPY</th>\n",
       "      <th>TLT</th>\n",
       "    </tr>\n",
       "    <tr>\n",
       "      <th>Symbols</th>\n",
       "      <th></th>\n",
       "      <th></th>\n",
       "    </tr>\n",
       "  </thead>\n",
       "  <tbody>\n",
       "    <tr>\n",
       "      <th>Fund1</th>\n",
       "      <td>0.525457</td>\n",
       "      <td>0.571534</td>\n",
       "    </tr>\n",
       "    <tr>\n",
       "      <th>Fund2</th>\n",
       "      <td>0.814729</td>\n",
       "      <td>0.705166</td>\n",
       "    </tr>\n",
       "    <tr>\n",
       "      <th>Fund3</th>\n",
       "      <td>0.812336</td>\n",
       "      <td>0.905391</td>\n",
       "    </tr>\n",
       "  </tbody>\n",
       "</table>\n",
       "</div>"
      ],
      "text/plain": [
       "Symbols       SPY       TLT\n",
       "Symbols                    \n",
       "Fund1    0.525457  0.571534\n",
       "Fund2    0.814729  0.705166\n",
       "Fund3    0.812336  0.905391"
      ]
     },
     "execution_count": 5,
     "metadata": {},
     "output_type": "execute_result"
    }
   ],
   "source": [
    "#ANSWER\n",
    "ret_series_close = (1 + merged_df[\"Close\"].pct_change()).cumprod() - 1\n",
    "ret_series_close.corr().iloc[0:3, 3:5]"
   ]
  },
  {
   "cell_type": "code",
   "execution_count": 6,
   "metadata": {},
   "outputs": [
    {
     "data": {
      "image/png": "[encoded data removed]",
      "text/plain": [
       "<Figure size 1152x648 with 2 Axes>"
      ]
     },
     "metadata": {
      "needs_background": "light"
     },
     "output_type": "display_data"
    },
    {
     "data": {
      "image/png": "[encoded data removed]",
      "text/plain": [
       "<Figure size 1152x648 with 2 Axes>"
      ]
     },
     "metadata": {
      "needs_background": "light"
     },
     "output_type": "display_data"
    },
    {
     "data": {
      "image/png": "[encoded data removed]",
      "text/plain": [
       "<Figure size 1152x648 with 2 Axes>"
      ]
     },
     "metadata": {
      "needs_background": "light"
     },
     "output_type": "display_data"
    }
   ],
   "source": [
    "bm = [\"SPY\",\"TLT\"]\n",
    "for i in ret_series_close.columns:\n",
    "    if i not in bm:\n",
    "        fig, ax = plt.subplots(1,2, figsize=(16,9))\n",
    "        c = 0\n",
    "        for j in bm:\n",
    "            if i != j:\n",
    "                ax[c].scatter(ret_series_close[i], ret_series_close[j])\n",
    "                ax[c].set_title(\"{} vs {}\".format(i, j))\n",
    "                ax[c].yaxis.set_major_formatter(FuncFormatter(lambda y, _: '{:.0%}'.format(y)))\n",
    "                ax[c].xaxis.set_major_formatter(FuncFormatter(lambda x, _: '{:.0%}'.format(x)))\n",
    "                c += 1\n",
    "            else:\n",
    "                continue"
   ]
  },
  {
   "cell_type": "markdown",
   "metadata": {},
   "source": [
    "### 5. Annualised volatility\n",
    "Calculate and compare the volitilities of the funds and the benchmarks."
   ]
  },
  {
   "cell_type": "code",
   "execution_count": 7,
   "metadata": {
    "jupyter": {
     "outputs_hidden": false,
     "source_hidden": false
    },
    "nteract": {
     "transient": {
      "deleting": false
     }
    }
   },
   "outputs": [
    {
     "data": {
      "text/plain": [
       "Symbols\n",
       "Fund1    0.220972\n",
       "Fund2    0.375085\n",
       "Fund3    0.051973\n",
       "SPY      0.237665\n",
       "TLT      0.155163\n",
       "dtype: float64"
      ]
     },
     "execution_count": 7,
     "metadata": {},
     "output_type": "execute_result"
    }
   ],
   "source": [
    "#ANSWER\n",
    "close_price = merged_df[\"Close\"]\n",
    "\n",
    "annualized_vol = np.sqrt(252*np.log(close_price/close_price.shift(1)).var())\n",
    "annualized_vol"
   ]
  },
  {
   "cell_type": "markdown",
   "metadata": {},
   "source": [
    "### 6. Risk adjusted return\n",
    "Calculate and compare the risk adjusted returns for the funds and the benchmarks.  Assume that the risk-free rate is 1%."
   ]
  },
  {
   "cell_type": "code",
   "execution_count": 8,
   "metadata": {
    "jupyter": {
     "outputs_hidden": false,
     "source_hidden": false
    },
    "nteract": {
     "transient": {
      "deleting": false
     }
    }
   },
   "outputs": [
    {
     "data": {
      "text/html": [
       "<div>\n",
       "<style scoped>\n",
       "    .dataframe tbody tr th:only-of-type {\n",
       "        vertical-align: middle;\n",
       "    }\n",
       "\n",
       "    .dataframe tbody tr th {\n",
       "        vertical-align: top;\n",
       "    }\n",
       "\n",
       "    .dataframe thead th {\n",
       "        text-align: right;\n",
       "    }\n",
       "</style>\n",
       "<table border=\"1\" class=\"dataframe\">\n",
       "  <thead>\n",
       "    <tr style=\"text-align: right;\">\n",
       "      <th>Symbols</th>\n",
       "      <th>Fund1</th>\n",
       "      <th>Fund2</th>\n",
       "      <th>Fund3</th>\n",
       "      <th>SPY</th>\n",
       "      <th>TLT</th>\n",
       "    </tr>\n",
       "    <tr>\n",
       "      <th>Date</th>\n",
       "      <th></th>\n",
       "      <th></th>\n",
       "      <th></th>\n",
       "      <th></th>\n",
       "      <th></th>\n",
       "    </tr>\n",
       "  </thead>\n",
       "  <tbody>\n",
       "    <tr>\n",
       "      <th>2020-11-13</th>\n",
       "      <td>0.228514</td>\n",
       "      <td>0.395193</td>\n",
       "      <td>0.058151</td>\n",
       "      <td>0.110689</td>\n",
       "      <td>0.126262</td>\n",
       "    </tr>\n",
       "  </tbody>\n",
       "</table>\n",
       "</div>"
      ],
      "text/plain": [
       "Symbols        Fund1     Fund2     Fund3       SPY       TLT\n",
       "Date                                                        \n",
       "2020-11-13  0.228514  0.395193  0.058151  0.110689  0.126262"
      ]
     },
     "metadata": {},
     "output_type": "display_data"
    },
    {
     "data": {
      "text/html": [
       "<div>\n",
       "<style scoped>\n",
       "    .dataframe tbody tr th:only-of-type {\n",
       "        vertical-align: middle;\n",
       "    }\n",
       "\n",
       "    .dataframe tbody tr th {\n",
       "        vertical-align: top;\n",
       "    }\n",
       "\n",
       "    .dataframe thead th {\n",
       "        text-align: right;\n",
       "    }\n",
       "</style>\n",
       "<table border=\"1\" class=\"dataframe\">\n",
       "  <thead>\n",
       "    <tr style=\"text-align: right;\">\n",
       "      <th>Symbols</th>\n",
       "      <th>Fund1</th>\n",
       "      <th>Fund2</th>\n",
       "      <th>Fund3</th>\n",
       "      <th>SPY</th>\n",
       "      <th>TLT</th>\n",
       "    </tr>\n",
       "    <tr>\n",
       "      <th>Date</th>\n",
       "      <th></th>\n",
       "      <th></th>\n",
       "      <th></th>\n",
       "      <th></th>\n",
       "      <th></th>\n",
       "    </tr>\n",
       "  </thead>\n",
       "  <tbody>\n",
       "    <tr>\n",
       "      <th>2020-11-13</th>\n",
       "      <td>0.988877</td>\n",
       "      <td>1.026949</td>\n",
       "      <td>0.926452</td>\n",
       "      <td>0.42366</td>\n",
       "      <td>0.749288</td>\n",
       "    </tr>\n",
       "  </tbody>\n",
       "</table>\n",
       "</div>"
      ],
      "text/plain": [
       "Symbols        Fund1     Fund2     Fund3      SPY       TLT\n",
       "Date                                                       \n",
       "2020-11-13  0.988877  1.026949  0.926452  0.42366  0.749288"
      ]
     },
     "execution_count": 8,
     "metadata": {},
     "output_type": "execute_result"
    }
   ],
   "source": [
    "#ANSWER\n",
    "no_of_days = ret_series_adj.index[-1] - ret_series_adj.index[0] \n",
    "no_of_yrs = 1016/365\n",
    "annualized_ret = (1 + ret_series_adj.tail(1))**(1/no_of_yrs) - 1\n",
    "display(annualized_ret)\n",
    "\n",
    "risk_adj_ret = (annualized_ret - 0.01)/annualized_vol.T\n",
    "risk_adj_ret"
   ]
  },
  {
   "cell_type": "markdown",
   "metadata": {
    "nteract": {
     "transient": {
      "deleting": false
     }
    }
   },
   "source": [
    "### 7. Calculate the skew and kurtosis\n",
    "Calculate and compare the skew and kurtosis of the funds and the benchmarks."
   ]
  },
  {
   "cell_type": "code",
   "execution_count": 9,
   "metadata": {
    "jupyter": {
     "outputs_hidden": false,
     "source_hidden": false
    },
    "nteract": {
     "transient": {
      "deleting": false
     }
    }
   },
   "outputs": [
    {
     "data": {
      "text/plain": [
       "Symbols\n",
       "Fund1   -0.018496\n",
       "Fund2   -0.777667\n",
       "Fund3   -4.145723\n",
       "SPY     -0.671510\n",
       "TLT      0.384837\n",
       "dtype: float64"
      ]
     },
     "metadata": {},
     "output_type": "display_data"
    },
    {
     "data": {
      "text/plain": [
       "Symbols\n",
       "Fund1    -0.215521\n",
       "Fund2     5.412808\n",
       "Fund3    58.727330\n",
       "SPY      12.429567\n",
       "TLT      13.811996\n",
       "dtype: float64"
      ]
     },
     "metadata": {},
     "output_type": "display_data"
    }
   ],
   "source": [
    "#ANSWER\n",
    "daily_ret = merged_df[\"Close\"].pct_change()\n",
    "display(daily_ret.skew())\n",
    "display(daily_ret.kurtosis())"
   ]
  },
  {
   "cell_type": "markdown",
   "metadata": {},
   "source": [
    "### 8. Chart distribution of daily returns\n",
    "Chart and compare the histogram of daily returns for the funds and benchmarks using 60 bins.  \n",
    "*Hint: use the percent change values, not the return series values*"
   ]
  },
  {
   "cell_type": "code",
   "execution_count": 15,
   "metadata": {
    "jupyter": {
     "outputs_hidden": false,
     "source_hidden": false
    },
    "nteract": {
     "transient": {
      "deleting": false
     }
    }
   },
   "outputs": [
    {
     "data": {
      "image/png": "[encoded data removed]",
      "text/plain": [
       "<Figure size 1152x648 with 6 Axes>"
      ]
     },
     "metadata": {
      "needs_background": "light"
     },
     "output_type": "display_data"
    }
   ],
   "source": [
    "#ANSWER\n",
    "daily_ret.hist(bins=60, figsize=(16,9))\n",
    "plt.show()"
   ]
  },
  {
   "cell_type": "markdown",
   "metadata": {
    "nteract": {
     "transient": {
      "deleting": false
     }
    }
   },
   "source": [
    "-> Which fund do you think may be a fraud?  Fund #:1\n",
    "\n",
    "Which data (e.g return series, volitility, correlation, ...)  make you think that?  Not all of the below may apply, just fill in only the ones that you think are relevant.\n"
   ]
  },
  {
   "cell_type": "markdown",
   "metadata": {
    "nteract": {
     "transient": {
      "deleting": false
     }
    }
   },
   "source": [
    "#ANSWER\n",
    "\n",
    "Fund 1 is likely to be fraudulent\n",
    "\n",
    "<BR>-> Data 1: Histogram(Daily return distribution)\n",
    "<BR>-> Reason why: Fund 1 has the most out-of-the-place histogram compared to the distribution of other funds and benchmarks. The distribution appears to be binormal as it looks like it is artificially superimposed with two normal distribution. \n",
    "\n",
    "<BR>-> Data 2: Correlation with benchmarks\n",
    "<BR>-> Reason why: Fund1's correlations with SPY and TLT are 0.52545 and 0.571534, which are significantly lower than those of other funds. This suggests that Fund 1 is artificially modelled and does not follow the benchmarks. \n",
    "    \n",
    "<BR>-> Data 3: Skewness and kurtosis\n",
    "<BR>-> Reason why: Fund 1's return skewnss and kurtosis are -0.018496 and -0.215521, which are the closest to 0 among other funds and benchmark, i.e. Fund 1's daily return distribution is the closest to a normal distribution. In real life, this is very unlikely as shown by the benchmark distributions. Hence, it is very likely that Fund 1's daily return is artificially modelled after a normal distribution(s) and thus fraudulent.\n",
    "    "
   ]
  },
  {
   "cell_type": "markdown",
   "metadata": {
    "nteract": {
     "transient": {
      "deleting": false
     }
    }
   },
   "source": [
    "### Portfolio optimization\n",
    "\n",
    "For the remaining two 'real' funds, what mix do you recommend to the investor. Suggest a mix of two values rounded to even 10 percent values, e.g. 90:10, 80:20, 70:30, ...\n",
    "\n",
    "*Hint \\#1: calculate the RAR of some different combinations and see which is highest.<BR>\n",
    "*Hint \\#2: make sure to use Adjusted Close prices for annualized return calculations.<BR>\n",
    "*Hint \\#3: make sure to use Close prices that are converted to a return series (in % terms) to calculate volitility for the merged data sets.*\n",
    "<BR>-> Fund #:2\n",
    "<BR>-> Percent allocation: 10%\n",
    "<BR>-> Fund #:3\n",
    "<BR>-> Percent allocation: 90%\n"
   ]
  },
  {
   "cell_type": "code",
   "execution_count": 18,
   "metadata": {},
   "outputs": [
    {
     "data": {
      "text/html": [
       "<div>\n",
       "<style scoped>\n",
       "    .dataframe tbody tr th:only-of-type {\n",
       "        vertical-align: middle;\n",
       "    }\n",
       "\n",
       "    .dataframe tbody tr th {\n",
       "        vertical-align: top;\n",
       "    }\n",
       "\n",
       "    .dataframe thead th {\n",
       "        text-align: right;\n",
       "    }\n",
       "</style>\n",
       "<table border=\"1\" class=\"dataframe\">\n",
       "  <thead>\n",
       "    <tr style=\"text-align: right;\">\n",
       "      <th></th>\n",
       "      <th>Weight of Fund 2</th>\n",
       "      <th>Weight of Fund 3</th>\n",
       "      <th>Portfolio Return</th>\n",
       "      <th>Portfolio Volatility</th>\n",
       "      <th>Portfolio RAR</th>\n",
       "    </tr>\n",
       "  </thead>\n",
       "  <tbody>\n",
       "    <tr>\n",
       "      <th>0</th>\n",
       "      <td>0.1</td>\n",
       "      <td>0.9</td>\n",
       "      <td>0.100673</td>\n",
       "      <td>0.070999</td>\n",
       "      <td>1.277097</td>\n",
       "    </tr>\n",
       "    <tr>\n",
       "      <th>1</th>\n",
       "      <td>0.2</td>\n",
       "      <td>0.8</td>\n",
       "      <td>0.140450</td>\n",
       "      <td>0.104563</td>\n",
       "      <td>1.247574</td>\n",
       "    </tr>\n",
       "    <tr>\n",
       "      <th>2</th>\n",
       "      <td>0.3</td>\n",
       "      <td>0.7</td>\n",
       "      <td>0.177896</td>\n",
       "      <td>0.140488</td>\n",
       "      <td>1.195093</td>\n",
       "    </tr>\n",
       "    <tr>\n",
       "      <th>3</th>\n",
       "      <td>0.4</td>\n",
       "      <td>0.6</td>\n",
       "      <td>0.213331</td>\n",
       "      <td>0.176194</td>\n",
       "      <td>1.154019</td>\n",
       "    </tr>\n",
       "    <tr>\n",
       "      <th>4</th>\n",
       "      <td>0.5</td>\n",
       "      <td>0.5</td>\n",
       "      <td>0.247011</td>\n",
       "      <td>0.211149</td>\n",
       "      <td>1.122478</td>\n",
       "    </tr>\n",
       "    <tr>\n",
       "      <th>5</th>\n",
       "      <td>0.6</td>\n",
       "      <td>0.4</td>\n",
       "      <td>0.279141</td>\n",
       "      <td>0.245289</td>\n",
       "      <td>1.097242</td>\n",
       "    </tr>\n",
       "    <tr>\n",
       "      <th>6</th>\n",
       "      <td>0.7</td>\n",
       "      <td>0.3</td>\n",
       "      <td>0.309894</td>\n",
       "      <td>0.278667</td>\n",
       "      <td>1.076170</td>\n",
       "    </tr>\n",
       "    <tr>\n",
       "      <th>7</th>\n",
       "      <td>0.8</td>\n",
       "      <td>0.2</td>\n",
       "      <td>0.339409</td>\n",
       "      <td>0.311367</td>\n",
       "      <td>1.057945</td>\n",
       "    </tr>\n",
       "    <tr>\n",
       "      <th>8</th>\n",
       "      <td>0.9</td>\n",
       "      <td>0.1</td>\n",
       "      <td>0.367808</td>\n",
       "      <td>0.343471</td>\n",
       "      <td>1.041741</td>\n",
       "    </tr>\n",
       "  </tbody>\n",
       "</table>\n",
       "</div>"
      ],
      "text/plain": [
       "   Weight of Fund 2  Weight of Fund 3  Portfolio Return  Portfolio Volatility  \\\n",
       "0               0.1               0.9          0.100673              0.070999   \n",
       "1               0.2               0.8          0.140450              0.104563   \n",
       "2               0.3               0.7          0.177896              0.140488   \n",
       "3               0.4               0.6          0.213331              0.176194   \n",
       "4               0.5               0.5          0.247011              0.211149   \n",
       "5               0.6               0.4          0.279141              0.245289   \n",
       "6               0.7               0.3          0.309894              0.278667   \n",
       "7               0.8               0.2          0.339409              0.311367   \n",
       "8               0.9               0.1          0.367808              0.343471   \n",
       "\n",
       "   Portfolio RAR  \n",
       "0       1.277097  \n",
       "1       1.247574  \n",
       "2       1.195093  \n",
       "3       1.154019  \n",
       "4       1.122478  \n",
       "5       1.097242  \n",
       "6       1.076170  \n",
       "7       1.057945  \n",
       "8       1.041741  "
      ]
     },
     "metadata": {},
     "output_type": "display_data"
    },
    {
     "name": "stdout",
     "output_type": "stream",
     "text": [
      "\n",
      "Highest RAR:\n"
     ]
    },
    {
     "data": {
      "text/plain": [
       "Weight of Fund 2        0.100000\n",
       "Weight of Fund 3        0.900000\n",
       "Portfolio Return        0.100673\n",
       "Portfolio Volatility    0.070999\n",
       "Portfolio RAR           1.277097\n",
       "Name: 0, dtype: float64"
      ]
     },
     "metadata": {},
     "output_type": "display_data"
    }
   ],
   "source": [
    "# Answer\n",
    "\n",
    "portfolio = {\"Weight of Fund 2\":[],\n",
    "                 \"Weight of Fund 3\":[],\n",
    "                 \"Portfolio Return\":[],\n",
    "                \"Portfolio Volatility\":[],\n",
    "                \"Portfolio RAR\":[]}\n",
    "\n",
    "for i in np.arange(0.1,1,0.1):\n",
    "    portfolio[\"Weight of Fund 2\"].append(i)\n",
    "    portfolio[\"Weight of Fund 3\"].append(1-i)\n",
    "    \n",
    "    ret_series_adj_port = ret_series_adj[\"Fund2\"]*i + ret_series_adj[\"Fund3\"]*(1-i)\n",
    "    ret_series_close_port = ret_series_close[\"Fund2\"]*i + ret_series_close[\"Fund3\"]*(1-i)\n",
    "    \n",
    "    annualized_ret_port = (1+ret_series_adj_port.tail(1)[-1])**(1/no_of_yrs) - 1\n",
    "    portfolio[\"Portfolio Return\"].append(annualized_ret_port)\n",
    "    \n",
    "    port_vol = np.sqrt(252) * np.log((ret_series_close_port + 1)/(ret_series_close_port + 1).shift(1)).std()\n",
    "    portfolio[\"Portfolio Volatility\"].append(port_vol)\n",
    "    \n",
    "    port_rar = (annualized_ret_port - 0.01)/port_vol\n",
    "    portfolio[\"Portfolio RAR\"].append(port_rar)\n",
    "\n",
    "portfolio_df = pd.DataFrame(portfolio)\n",
    "display(portfolio_df)\n",
    "print(\"\\nHighest RAR:\")\n",
    "display(portfolio_df.iloc[portfolio_df[\"Portfolio RAR\"].idxmax()])\n"
   ]
  },
  {
   "cell_type": "markdown",
   "metadata": {},
   "source": [
    "-> Explain why you think the fund with the heavier weighting improves the RAR more.\n",
    "\n",
    "    Fund 3 has a heavier weighting of 90%. Having a heavier weight improves the RAR by reducing the portfolio volatility. Although Fund 3 has a lower annualized return of 0.058151 than Fund 2's 0.395193, it has also has a significantly lower annualized volatility of 0.051973 compared to Fund2's 0.375085\n",
    "    \n",
    "    Increasing weight of Fund 3 will reduce the overall volatility of the portfolio because the volatility of Fund 2 is much higher and should be adjusted down. "
   ]
  },
  {
   "cell_type": "code",
   "execution_count": null,
   "metadata": {},
   "outputs": [],
   "source": []
  }
 ],
 "metadata": {
  "kernelspec": {
   "display_name": "Python 3",
   "language": "python",
   "name": "python3"
  },
  "language_info": {
   "codemirror_mode": {
    "name": "ipython",
    "version": 3
   },
   "file_extension": ".py",
   "mimetype": "text/x-python",
   "name": "python",
   "nbconvert_exporter": "python",
   "pygments_lexer": "ipython3",
   "version": "3.7.7"
  },
  "nteract": {
   "version": "0.28.0"
  }
 },
 "nbformat": 4,
 "nbformat_minor": 4
}
